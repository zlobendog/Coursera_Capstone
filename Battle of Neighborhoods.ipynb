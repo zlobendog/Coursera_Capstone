{
 "cells": [
  {
   "cell_type": "markdown",
   "metadata": {},
   "source": [
    "# Coffee Shop in Baku"
   ]
  },
  {
   "cell_type": "markdown",
   "metadata": {},
   "source": [
    "<h2>Introduction</h2>\n",
    "\n",
    "A group of friends have decided to pull together some funding and open up a new coffee shop. But when it came down to deciding the most suitable location for the new place, opinions of the funders have split. Some wanted it to be located in the most busy suburb where there are already a lot of similar places, some wanted the new place to be located where no other (or, at least, few) coffee shops exist. Some proposed it to be in the most business-heavy suburb so that there will constantly be traffic around. \n",
    "\n",
    "While it is impossible to predict with any amount of certainty whether or not a new coffee shop will be successful, the aim of this project is to illuminate the potential suburbs to have the new coffee shop in and to provide the insights to the decision-makers."
   ]
  },
  {
   "cell_type": "markdown",
   "metadata": {},
   "source": [
    "<h2>Data Sources</h2>\n",
    "\n",
    "Data to be used in this project will come from two separate sources:\n",
    "\n",
    "1) http://www.mapcrow.info/ - this web-sites provides an easy way to extract suburbs names from complicated datasource of OpenStreetMap. By parsing this site we will be able to extract names and geographical coordinates of all city-wide suburbs without having to go through large database of objects in OSM project\n",
    "\n",
    "2) Foursquare - this is a required step. Foursquare data will be used to determine popular locations in each suburb and help us define what would be the predominant category for each. "
   ]
  },
  {
   "cell_type": "code",
   "execution_count": 4,
   "metadata": {},
   "outputs": [],
   "source": [
    "import geocoder\n",
    "import geopy\n",
    "import folium"
   ]
  },
  {
   "cell_type": "code",
   "execution_count": null,
   "metadata": {},
   "outputs": [],
   "source": []
  }
 ],
 "metadata": {
  "kernelspec": {
   "display_name": "Python 3",
   "language": "python",
   "name": "python3"
  },
  "language_info": {
   "codemirror_mode": {
    "name": "ipython",
    "version": 3
   },
   "file_extension": ".py",
   "mimetype": "text/x-python",
   "name": "python",
   "nbconvert_exporter": "python",
   "pygments_lexer": "ipython3",
   "version": "3.7.1"
  }
 },
 "nbformat": 4,
 "nbformat_minor": 2
}
